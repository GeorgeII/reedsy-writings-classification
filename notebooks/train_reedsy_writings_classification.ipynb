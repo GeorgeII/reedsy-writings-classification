{
  "nbformat": 4,
  "nbformat_minor": 0,
  "metadata": {
    "colab": {
      "name": "train_reedsy_writings_classification.ipynb",
      "provenance": [],
      "collapsed_sections": []
    },
    "kernelspec": {
      "name": "python3",
      "display_name": "Python 3"
    }
  },
  "cells": [
    {
      "cell_type": "code",
      "metadata": {
        "colab": {
          "base_uri": "https://localhost:8080/"
        },
        "id": "TuAxSVo5Tqj-",
        "outputId": "80704c99-3dfa-432c-a837-51ad9487ffb2"
      },
      "source": [
        "!pip install transformers -U\n",
        "!pip install sentencepiece"
      ],
      "execution_count": 1,
      "outputs": [
        {
          "output_type": "stream",
          "text": [
            "Requirement already up-to-date: transformers in /usr/local/lib/python3.7/dist-packages (4.4.2)\n",
            "Requirement already satisfied, skipping upgrade: regex!=2019.12.17 in /usr/local/lib/python3.7/dist-packages (from transformers) (2019.12.20)\n",
            "Requirement already satisfied, skipping upgrade: packaging in /usr/local/lib/python3.7/dist-packages (from transformers) (20.9)\n",
            "Requirement already satisfied, skipping upgrade: requests in /usr/local/lib/python3.7/dist-packages (from transformers) (2.23.0)\n",
            "Requirement already satisfied, skipping upgrade: filelock in /usr/local/lib/python3.7/dist-packages (from transformers) (3.0.12)\n",
            "Requirement already satisfied, skipping upgrade: tqdm>=4.27 in /usr/local/lib/python3.7/dist-packages (from transformers) (4.41.1)\n",
            "Requirement already satisfied, skipping upgrade: numpy>=1.17 in /usr/local/lib/python3.7/dist-packages (from transformers) (1.19.5)\n",
            "Requirement already satisfied, skipping upgrade: importlib-metadata; python_version < \"3.8\" in /usr/local/lib/python3.7/dist-packages (from transformers) (3.7.2)\n",
            "Requirement already satisfied, skipping upgrade: sacremoses in /usr/local/lib/python3.7/dist-packages (from transformers) (0.0.43)\n",
            "Requirement already satisfied, skipping upgrade: tokenizers<0.11,>=0.10.1 in /usr/local/lib/python3.7/dist-packages (from transformers) (0.10.1)\n",
            "Requirement already satisfied, skipping upgrade: pyparsing>=2.0.2 in /usr/local/lib/python3.7/dist-packages (from packaging->transformers) (2.4.7)\n",
            "Requirement already satisfied, skipping upgrade: urllib3!=1.25.0,!=1.25.1,<1.26,>=1.21.1 in /usr/local/lib/python3.7/dist-packages (from requests->transformers) (1.24.3)\n",
            "Requirement already satisfied, skipping upgrade: idna<3,>=2.5 in /usr/local/lib/python3.7/dist-packages (from requests->transformers) (2.10)\n",
            "Requirement already satisfied, skipping upgrade: certifi>=2017.4.17 in /usr/local/lib/python3.7/dist-packages (from requests->transformers) (2020.12.5)\n",
            "Requirement already satisfied, skipping upgrade: chardet<4,>=3.0.2 in /usr/local/lib/python3.7/dist-packages (from requests->transformers) (3.0.4)\n",
            "Requirement already satisfied, skipping upgrade: typing-extensions>=3.6.4; python_version < \"3.8\" in /usr/local/lib/python3.7/dist-packages (from importlib-metadata; python_version < \"3.8\"->transformers) (3.7.4.3)\n",
            "Requirement already satisfied, skipping upgrade: zipp>=0.5 in /usr/local/lib/python3.7/dist-packages (from importlib-metadata; python_version < \"3.8\"->transformers) (3.4.1)\n",
            "Requirement already satisfied, skipping upgrade: click in /usr/local/lib/python3.7/dist-packages (from sacremoses->transformers) (7.1.2)\n",
            "Requirement already satisfied, skipping upgrade: joblib in /usr/local/lib/python3.7/dist-packages (from sacremoses->transformers) (1.0.1)\n",
            "Requirement already satisfied, skipping upgrade: six in /usr/local/lib/python3.7/dist-packages (from sacremoses->transformers) (1.15.0)\n",
            "Requirement already satisfied: sentencepiece in /usr/local/lib/python3.7/dist-packages (0.1.95)\n"
          ],
          "name": "stdout"
        }
      ]
    },
    {
      "cell_type": "code",
      "metadata": {
        "id": "XFNdQs50QXhx"
      },
      "source": [
        "import pandas as pd\n",
        "import numpy as np\n",
        "import torch\n",
        "from transformers import BertTokenizer\n",
        "from transformers import BertForSequenceClassification\n",
        "from transformers import AdamW\n",
        "from transformers import Trainer, TrainingArguments\n"
      ],
      "execution_count": 15,
      "outputs": []
    },
    {
      "cell_type": "code",
      "metadata": {
        "colab": {
          "base_uri": "https://localhost:8080/",
          "height": 597
        },
        "id": "8BsYJFiwQsCm",
        "outputId": "cef59357-a5fe-4ccd-9d0c-331d14ef8f83"
      },
      "source": [
        "df = pd.read_pickle(\"./cleaned_dataset_df.pkl\")\n",
        "df"
      ],
      "execution_count": 3,
      "outputs": [
        {
          "output_type": "execute_result",
          "data": {
            "text/html": [
              "<div>\n",
              "<style scoped>\n",
              "    .dataframe tbody tr th:only-of-type {\n",
              "        vertical-align: middle;\n",
              "    }\n",
              "\n",
              "    .dataframe tbody tr th {\n",
              "        vertical-align: top;\n",
              "    }\n",
              "\n",
              "    .dataframe thead th {\n",
              "        text-align: right;\n",
              "    }\n",
              "</style>\n",
              "<table border=\"1\" class=\"dataframe\">\n",
              "  <thead>\n",
              "    <tr style=\"text-align: right;\">\n",
              "      <th></th>\n",
              "      <th>name</th>\n",
              "      <th>author</th>\n",
              "      <th>categories</th>\n",
              "      <th>body/story</th>\n",
              "      <th>likesNumber</th>\n",
              "      <th>commentsNumber</th>\n",
              "      <th>timestamp of scraping</th>\n",
              "      <th>url</th>\n",
              "    </tr>\n",
              "  </thead>\n",
              "  <tbody>\n",
              "    <tr>\n",
              "      <th>0</th>\n",
              "      <td>No Hard Feelings</td>\n",
              "      <td>A.dot Ram</td>\n",
              "      <td>[1, 1, 1, 0, 0, 0, 0, 0, 0, 0, 0, 0, 0, 0, 0, ...</td>\n",
              "      <td>Dear Winston,\\nBy the time you’re reading this...</td>\n",
              "      <td>251</td>\n",
              "      <td>131</td>\n",
              "      <td>2020-11-16T13:51:25.961554</td>\n",
              "      <td>https://blog.reedsy.com/creative-writing-promp...</td>\n",
              "    </tr>\n",
              "    <tr>\n",
              "      <th>1</th>\n",
              "      <td>3:00 A.M.</td>\n",
              "      <td>Alby Carter</td>\n",
              "      <td>[1, 0, 0, 1, 0, 0, 0, 0, 0, 0, 0, 0, 0, 0, 0, ...</td>\n",
              "      <td>It’s late, and my head still hurts from the fi...</td>\n",
              "      <td>140</td>\n",
              "      <td>65</td>\n",
              "      <td>2020-11-16T13:51:26.814869</td>\n",
              "      <td>https://blog.reedsy.com/creative-writing-prom...</td>\n",
              "    </tr>\n",
              "    <tr>\n",
              "      <th>2</th>\n",
              "      <td>The Population</td>\n",
              "      <td>Julia Boddie</td>\n",
              "      <td>[0, 1, 0, 0, 1, 0, 0, 0, 0, 0, 0, 0, 0, 0, 0, ...</td>\n",
              "      <td>They rushed him to the hospital. Timothy laid ...</td>\n",
              "      <td>83</td>\n",
              "      <td>31</td>\n",
              "      <td>2020-11-16T13:51:27.692685</td>\n",
              "      <td>https://blog.reedsy.com/creative-writing-prom...</td>\n",
              "    </tr>\n",
              "    <tr>\n",
              "      <th>3</th>\n",
              "      <td>That Night</td>\n",
              "      <td>Eliza Ane</td>\n",
              "      <td>[0, 0, 0, 0, 0, 1, 1, 0, 0, 0, 0, 0, 0, 0, 0, ...</td>\n",
              "      <td>The door slammed against the wall as she threw...</td>\n",
              "      <td>82</td>\n",
              "      <td>79</td>\n",
              "      <td>2020-11-16T13:51:28.563709</td>\n",
              "      <td>https://blog.reedsy.com/creative-writing-prom...</td>\n",
              "    </tr>\n",
              "    <tr>\n",
              "      <th>4</th>\n",
              "      <td>A savior?</td>\n",
              "      <td>B. W.</td>\n",
              "      <td>[0, 0, 0, 0, 0, 0, 0, 1, 1, 0, 0, 0, 0, 0, 0, ...</td>\n",
              "      <td>This has something to do with the novel that i...</td>\n",
              "      <td>72</td>\n",
              "      <td>260</td>\n",
              "      <td>2020-11-16T13:51:29.870689</td>\n",
              "      <td>https://blog.reedsy.com/creative-writing-prom...</td>\n",
              "    </tr>\n",
              "    <tr>\n",
              "      <th>...</th>\n",
              "      <td>...</td>\n",
              "      <td>...</td>\n",
              "      <td>...</td>\n",
              "      <td>...</td>\n",
              "      <td>...</td>\n",
              "      <td>...</td>\n",
              "      <td>...</td>\n",
              "      <td>...</td>\n",
              "    </tr>\n",
              "    <tr>\n",
              "      <th>3560</th>\n",
              "      <td>A Different Kind Of Ophalim</td>\n",
              "      <td>Azalea Young</td>\n",
              "      <td>[0, 0, 0, 0, 1, 0, 0, 0, 1, 0, 0, 0, 0, 0, 0, ...</td>\n",
              "      <td>Of Important Note:\\nWith the creation of Yalib...</td>\n",
              "      <td>0</td>\n",
              "      <td>0</td>\n",
              "      <td>2021-02-03T23:41:12.424204</td>\n",
              "      <td>https://blog.reedsy.com/creative-writing-prom...</td>\n",
              "    </tr>\n",
              "    <tr>\n",
              "      <th>3561</th>\n",
              "      <td>The Miracle Maker</td>\n",
              "      <td>Reija Sillanpaa</td>\n",
              "      <td>[0, 0, 0, 0, 1, 0, 0, 0, 0, 0, 0, 0, 0, 1, 0, ...</td>\n",
              "      <td>TW: sexual abuse, familial abuse\\n\\nMy super-s...</td>\n",
              "      <td>0</td>\n",
              "      <td>0</td>\n",
              "      <td>2021-02-03T23:41:13.191278</td>\n",
              "      <td>https://blog.reedsy.com/creative-writing-prom...</td>\n",
              "    </tr>\n",
              "    <tr>\n",
              "      <th>3562</th>\n",
              "      <td>She Listens</td>\n",
              "      <td>Da. Blackmore</td>\n",
              "      <td>[0, 0, 0, 0, 0, 0, 0, 0, 0, 0, 0, 0, 0, 1, 0, ...</td>\n",
              "      <td>Tears.\\nShe steps into the schoolyard silently...</td>\n",
              "      <td>0</td>\n",
              "      <td>0</td>\n",
              "      <td>2021-02-03T23:41:13.949157</td>\n",
              "      <td>https://blog.reedsy.com/creative-writing-prom...</td>\n",
              "    </tr>\n",
              "    <tr>\n",
              "      <th>3563</th>\n",
              "      <td>Someone given a second chance, is someone give...</td>\n",
              "      <td>Nokwazi Mokoena</td>\n",
              "      <td>[0, 0, 0, 0, 1, 0, 0, 0, 0, 1, 0, 0, 0, 0, 0, ...</td>\n",
              "      <td>I cannot recall what was happening in my head ...</td>\n",
              "      <td>0</td>\n",
              "      <td>0</td>\n",
              "      <td>2021-02-03T23:41:14.786111</td>\n",
              "      <td>https://blog.reedsy.com/creative-writing-prom...</td>\n",
              "    </tr>\n",
              "    <tr>\n",
              "      <th>3564</th>\n",
              "      <td>Bettering Beginnings</td>\n",
              "      <td>C alexis Mcgregor</td>\n",
              "      <td>[1, 0, 0, 1, 0, 0, 0, 0, 0, 0, 0, 0, 0, 1, 0, ...</td>\n",
              "      <td>CRASH\\nMy head flies from its feathery perch, ...</td>\n",
              "      <td>0</td>\n",
              "      <td>0</td>\n",
              "      <td>2021-02-03T23:41:15.538461</td>\n",
              "      <td>https://blog.reedsy.com/creative-writing-prom...</td>\n",
              "    </tr>\n",
              "  </tbody>\n",
              "</table>\n",
              "<p>3565 rows × 8 columns</p>\n",
              "</div>"
            ],
            "text/plain": [
              "                                                   name  ...                                                url\n",
              "0                                      No Hard Feelings  ...  https://blog.reedsy.com/creative-writing-promp...\n",
              "1                                             3:00 A.M.  ...   https://blog.reedsy.com/creative-writing-prom...\n",
              "2                                        The Population  ...   https://blog.reedsy.com/creative-writing-prom...\n",
              "3                                            That Night  ...   https://blog.reedsy.com/creative-writing-prom...\n",
              "4                                             A savior?  ...   https://blog.reedsy.com/creative-writing-prom...\n",
              "...                                                 ...  ...                                                ...\n",
              "3560                        A Different Kind Of Ophalim  ...   https://blog.reedsy.com/creative-writing-prom...\n",
              "3561                                  The Miracle Maker  ...   https://blog.reedsy.com/creative-writing-prom...\n",
              "3562                                        She Listens  ...   https://blog.reedsy.com/creative-writing-prom...\n",
              "3563  Someone given a second chance, is someone give...  ...   https://blog.reedsy.com/creative-writing-prom...\n",
              "3564                               Bettering Beginnings  ...   https://blog.reedsy.com/creative-writing-prom...\n",
              "\n",
              "[3565 rows x 8 columns]"
            ]
          },
          "metadata": {
            "tags": []
          },
          "execution_count": 3
        }
      ]
    },
    {
      "cell_type": "code",
      "metadata": {
        "colab": {
          "base_uri": "https://localhost:8080/"
        },
        "id": "lJlaPio_YlSB",
        "outputId": "561dc272-9151-4cab-d63b-228c60e493bd"
      },
      "source": [
        "num_of_categories = len(df[\"categories\"][0])\n",
        "num_of_categories"
      ],
      "execution_count": 4,
      "outputs": [
        {
          "output_type": "execute_result",
          "data": {
            "text/plain": [
              "24"
            ]
          },
          "metadata": {
            "tags": []
          },
          "execution_count": 4
        }
      ]
    },
    {
      "cell_type": "code",
      "metadata": {
        "id": "xjxIwrqhR1Hw"
      },
      "source": [
        "#tokenizer = torch.hub.load('huggingface/pytorch-transformers', 'tokenizer', 'bert-base-uncased')\n",
        "tokenizer = BertTokenizer.from_pretrained('bert-base-uncased', \n",
        "                                          num_labels = num_of_categories, \n",
        "                                          do_lower_case = True\n",
        "                                          )"
      ],
      "execution_count": 7,
      "outputs": []
    },
    {
      "cell_type": "markdown",
      "metadata": {
        "id": "3AGBDdZcaq2f"
      },
      "source": [
        "#Tokenizer examples:"
      ]
    },
    {
      "cell_type": "code",
      "metadata": {
        "colab": {
          "base_uri": "https://localhost:8080/"
        },
        "id": "GZqyyOXgdaqI",
        "outputId": "62e386ca-ba9c-4ca5-ac08-4cc8e5b696b7"
      },
      "source": [
        "print(tokenizer.tokenize(\"An example: apply, applied, application, applicable, responsible, managed, breaking!!!\"))\n",
        "print(tokenizer.tokenize(\"Wondering if stemming and lemmatization are on.\"))"
      ],
      "execution_count": 6,
      "outputs": [
        {
          "output_type": "stream",
          "text": [
            "['an', 'example', ':', 'apply', ',', 'applied', ',', 'application', ',', 'applicable', ',', 'responsible', ',', 'managed', ',', 'breaking', '!', '!', '!']\n",
            "['wondering', 'if', 'stemming', 'and', 'le', '##mma', '##ti', '##zation', 'are', 'on', '.']\n"
          ],
          "name": "stdout"
        }
      ]
    },
    {
      "cell_type": "code",
      "metadata": {
        "colab": {
          "base_uri": "https://localhost:8080/"
        },
        "id": "I2Ok4qhYdIa9",
        "outputId": "bfa3dddf-3e44-493e-dc30-4ef9a237403d"
      },
      "source": [
        "# model = torch.hub.load('huggingface/pytorch-transformers', 'model', 'bert-base-uncased') \n",
        "model = BertForSequenceClassification.from_pretrained('bert-base-uncased')"
      ],
      "execution_count": 8,
      "outputs": [
        {
          "output_type": "stream",
          "text": [
            "Some weights of the model checkpoint at bert-base-uncased were not used when initializing BertForSequenceClassification: ['cls.predictions.bias', 'cls.predictions.transform.dense.weight', 'cls.predictions.transform.dense.bias', 'cls.predictions.decoder.weight', 'cls.seq_relationship.weight', 'cls.seq_relationship.bias', 'cls.predictions.transform.LayerNorm.weight', 'cls.predictions.transform.LayerNorm.bias']\n",
            "- This IS expected if you are initializing BertForSequenceClassification from the checkpoint of a model trained on another task or with another architecture (e.g. initializing a BertForSequenceClassification model from a BertForPreTraining model).\n",
            "- This IS NOT expected if you are initializing BertForSequenceClassification from the checkpoint of a model that you expect to be exactly identical (initializing a BertForSequenceClassification model from a BertForSequenceClassification model).\n",
            "Some weights of BertForSequenceClassification were not initialized from the model checkpoint at bert-base-uncased and are newly initialized: ['classifier.weight', 'classifier.bias']\n",
            "You should probably TRAIN this model on a down-stream task to be able to use it for predictions and inference.\n"
          ],
          "name": "stderr"
        }
      ]
    },
    {
      "cell_type": "markdown",
      "metadata": {
        "id": "Dna-1jpXdSVp"
      },
      "source": [
        "#Set a training mode:"
      ]
    },
    {
      "cell_type": "code",
      "metadata": {
        "id": "_SYYT12ifIjV"
      },
      "source": [
        "model.train()"
      ],
      "execution_count": null,
      "outputs": []
    },
    {
      "cell_type": "code",
      "metadata": {
        "id": "U62qlC4qdmWC"
      },
      "source": [
        "no_decay = ['bias', 'LayerNorm.weight']\n",
        "optimizer_grouped_parameters = [\n",
        "    {'params': [p for n, p in model.named_parameters() if not any(nd in n for nd in no_decay)], 'weight_decay': 0.01},\n",
        "    {'params': [p for n, p in model.named_parameters() if any(nd in n for nd in no_decay)], 'weight_decay': 0.0}\n",
        "]\n",
        "optimizer = AdamW(optimizer_grouped_parameters, lr=1e-5)"
      ],
      "execution_count": 12,
      "outputs": []
    },
    {
      "cell_type": "code",
      "metadata": {
        "id": "6cNbOzOSf_zJ"
      },
      "source": [
        "text_batch = [\"I love Pixar.\", \"I don't care for Pixar.\"]\n",
        "encoding = tokenizer(text_batch, return_tensors='pt', padding=True, truncation=True)\n",
        "input_ids = encoding['input_ids']\n",
        "attention_mask = encoding['attention_mask']"
      ],
      "execution_count": 13,
      "outputs": []
    },
    {
      "cell_type": "code",
      "metadata": {
        "id": "Zs4VezSGg1xI"
      },
      "source": [
        "labels = torch.tensor([1,0]).unsqueeze(0)\n",
        "outputs = model(input_ids, attention_mask=attention_mask, labels=labels)\n",
        "loss = outputs.loss\n",
        "loss.backward()\n",
        "optimizer.step()"
      ],
      "execution_count": 14,
      "outputs": []
    },
    {
      "cell_type": "code",
      "metadata": {
        "colab": {
          "base_uri": "https://localhost:8080/"
        },
        "id": "dupgHxRuksSI",
        "outputId": "d6a2897d-a803-4a83-fd1e-460214fb515e"
      },
      "source": [
        "features = df[\"body/story\"].to_list()\n",
        "labels = df[\"categories\"].to_list()\n",
        "labels[-5:]"
      ],
      "execution_count": 23,
      "outputs": [
        {
          "output_type": "execute_result",
          "data": {
            "text/plain": [
              "[[0, 0, 0, 0, 1, 0, 0, 0, 1, 0, 0, 0, 0, 0, 0, 0, 0, 0, 0, 0, 0, 0, 0, 0],\n",
              " [0, 0, 0, 0, 1, 0, 0, 0, 0, 0, 0, 0, 0, 1, 0, 0, 0, 0, 0, 0, 0, 0, 0, 0],\n",
              " [0, 0, 0, 0, 0, 0, 0, 0, 0, 0, 0, 0, 0, 1, 0, 0, 0, 0, 0, 0, 0, 0, 0, 0],\n",
              " [0, 0, 0, 0, 1, 0, 0, 0, 0, 1, 0, 0, 0, 0, 0, 0, 0, 1, 0, 0, 0, 0, 0, 0],\n",
              " [1, 0, 0, 1, 0, 0, 0, 0, 0, 0, 0, 0, 0, 1, 0, 0, 0, 0, 0, 0, 0, 0, 0, 0]]"
            ]
          },
          "metadata": {
            "tags": []
          },
          "execution_count": 23
        }
      ]
    },
    {
      "cell_type": "code",
      "metadata": {
        "id": "KWLXLjRCjyc_"
      },
      "source": [
        "from sklearn.model_selection import train_test_split\n",
        "\n",
        "features_train, features_test, labels_train, labels_test = train_test_split(features, labels, test_size=0.33, random_state=42)"
      ],
      "execution_count": 24,
      "outputs": []
    },
    {
      "cell_type": "markdown",
      "metadata": {
        "id": "7o7gwYqQnUwS"
      },
      "source": [
        "# Creating custom Datasets"
      ]
    },
    {
      "cell_type": "code",
      "metadata": {
        "id": "eHhd_K4TnUJU"
      },
      "source": [
        "from torch.utils.data import Dataset\n",
        "\n",
        "class TextClassificationDataset(Dataset):\n",
        "\n",
        "    def __init__(self, features, labels):\n",
        "        self.features = features\n",
        "        self.labels = labels\n",
        "\n",
        "    def __len__(self):\n",
        "        return len(self.labels)\n",
        "\n",
        "    def __getitem__(self, idx):\n",
        "        if torch.is_tensor(idx):\n",
        "            idx = idx.tolist()\n",
        "        \n",
        "        features = torch.from_numpy(self.features[idx])\n",
        "        labels = torch.from_numpy(self.labels[idx])\n",
        "\n",
        "        return features, labels[idx]"
      ],
      "execution_count": 30,
      "outputs": []
    },
    {
      "cell_type": "code",
      "metadata": {
        "id": "o9GW34DNpnjm"
      },
      "source": [
        "train_dataset = TextClassificationDataset(features_train, labels_train)\n",
        "test_dataset = TextClassificationDataset(features_test, labels_test)"
      ],
      "execution_count": 31,
      "outputs": []
    },
    {
      "cell_type": "code",
      "metadata": {
        "id": "ZZ_cvdIvhVgl"
      },
      "source": [
        "training_args = TrainingArguments(\n",
        "    output_dir='./results',          # output directory\n",
        "    num_train_epochs=3,              # total # of training epochs\n",
        "    per_device_train_batch_size=16,  # batch size per device during training\n",
        "    per_device_eval_batch_size=64,   # batch size for evaluation\n",
        "    warmup_steps=500,                # number of warmup steps for learning rate scheduler\n",
        "    weight_decay=0.01,               # strength of weight decay\n",
        "    logging_dir='./logs',            # directory for storing logs\n",
        ")\n",
        "\n",
        "trainer = Trainer(\n",
        "    model=model,                         # the instantiated 🤗 Transformers model to be trained\n",
        "    args=training_args,                  # training arguments, defined above\n",
        "    train_dataset=train_dataset,        # training dataset\n",
        "    eval_dataset=test_dataset            # evaluation dataset\n",
        ")"
      ],
      "execution_count": 32,
      "outputs": []
    },
    {
      "cell_type": "code",
      "metadata": {
        "id": "Ib6JS6Z_iC9N"
      },
      "source": [
        "from sklearn.metrics import accuracy_score, precision_recall_fscore_support\n",
        "\n",
        "def compute_metrics(pred):\n",
        "    labels = pred.label_ids\n",
        "    preds = pred.predictions.argmax(-1)\n",
        "    precision, recall, f1, _ = precision_recall_fscore_support(labels, preds, average='samples')\n",
        "    acc = accuracy_score(labels, preds)\n",
        "    return {\n",
        "        'accuracy': acc,\n",
        "        'f1': f1,\n",
        "        'precision': precision,\n",
        "        'recall': recall\n",
        "    }"
      ],
      "execution_count": 33,
      "outputs": []
    },
    {
      "cell_type": "code",
      "metadata": {
        "id": "eicu75rdp7pO"
      },
      "source": [
        ""
      ],
      "execution_count": null,
      "outputs": []
    }
  ]
}