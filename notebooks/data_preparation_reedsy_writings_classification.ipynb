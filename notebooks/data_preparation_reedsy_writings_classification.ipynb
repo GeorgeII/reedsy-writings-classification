{
  "nbformat": 4,
  "nbformat_minor": 0,
  "metadata": {
    "colab": {
      "name": "data-preparation-reedsy-writings-classification.ipynb",
      "provenance": [],
      "collapsed_sections": [],
      "toc_visible": true
    },
    "kernelspec": {
      "name": "python3",
      "display_name": "Python 3"
    }
  },
  "cells": [
    {
      "cell_type": "code",
      "metadata": {
        "colab": {
          "base_uri": "https://localhost:8080/"
        },
        "id": "Qw0goq_hhVNT",
        "outputId": "0e8d7442-f7f7-4fec-ee76-9cade92c45a3"
      },
      "source": [
        "!pip install pickle5"
      ],
      "execution_count": 1,
      "outputs": [
        {
          "output_type": "stream",
          "text": [
            "Collecting pickle5\n",
            "\u001b[?25l  Downloading https://files.pythonhosted.org/packages/f7/4c/5c4dd0462c8d3a6bc4af500a6af240763c2ebd1efdc736fc2c946d44b70a/pickle5-0.0.11.tar.gz (132kB)\n",
            "\r\u001b[K     |██▌                             | 10kB 12.1MB/s eta 0:00:01\r\u001b[K     |█████                           | 20kB 16.6MB/s eta 0:00:01\r\u001b[K     |███████▍                        | 30kB 20.0MB/s eta 0:00:01\r\u001b[K     |██████████                      | 40kB 13.8MB/s eta 0:00:01\r\u001b[K     |████████████▍                   | 51kB 9.1MB/s eta 0:00:01\r\u001b[K     |██████████████▉                 | 61kB 8.8MB/s eta 0:00:01\r\u001b[K     |█████████████████▍              | 71kB 8.9MB/s eta 0:00:01\r\u001b[K     |███████████████████▉            | 81kB 7.9MB/s eta 0:00:01\r\u001b[K     |██████████████████████▎         | 92kB 8.1MB/s eta 0:00:01\r\u001b[K     |████████████████████████▉       | 102kB 8.5MB/s eta 0:00:01\r\u001b[K     |███████████████████████████▎    | 112kB 8.5MB/s eta 0:00:01\r\u001b[K     |█████████████████████████████▊  | 122kB 8.5MB/s eta 0:00:01\r\u001b[K     |████████████████████████████████| 133kB 8.5MB/s \n",
            "\u001b[?25hBuilding wheels for collected packages: pickle5\n",
            "  Building wheel for pickle5 (setup.py) ... \u001b[?25l\u001b[?25hdone\n",
            "  Created wheel for pickle5: filename=pickle5-0.0.11-cp37-cp37m-linux_x86_64.whl size=219258 sha256=dee2bdd19f232bc9ac2a96568829e0f417001d2e9fdb2b4aa839c328b41d79ec\n",
            "  Stored in directory: /root/.cache/pip/wheels/a6/90/95/f889ca4aa8b0e0c7f21c8470b6f5d6032f0390a3a141a9a3bd\n",
            "Successfully built pickle5\n",
            "Installing collected packages: pickle5\n",
            "Successfully installed pickle5-0.0.11\n"
          ],
          "name": "stdout"
        }
      ]
    },
    {
      "cell_type": "code",
      "metadata": {
        "id": "iW3QCHNCfdnn"
      },
      "source": [
        "import pandas as pd\n",
        "import numpy as np\n",
        "import pickle5 as pickle\n",
        "import itertools"
      ],
      "execution_count": 2,
      "outputs": []
    },
    {
      "cell_type": "markdown",
      "metadata": {
        "id": "WEJeOaEIqQlq"
      },
      "source": [
        "#Data that I parsed. Analysys and cleaning are needed."
      ]
    },
    {
      "cell_type": "code",
      "metadata": {
        "colab": {
          "base_uri": "https://localhost:8080/",
          "height": 597
        },
        "id": "GzBqrfY6eMC-",
        "outputId": "6b0f02a1-d535-474b-a88c-43ef79ccc0fd"
      },
      "source": [
        "with open('stories_pandas_df.pkl', 'rb') as file:\n",
        "  df = pickle.load(file)\n",
        "df"
      ],
      "execution_count": 3,
      "outputs": [
        {
          "output_type": "execute_result",
          "data": {
            "text/html": [
              "<div>\n",
              "<style scoped>\n",
              "    .dataframe tbody tr th:only-of-type {\n",
              "        vertical-align: middle;\n",
              "    }\n",
              "\n",
              "    .dataframe tbody tr th {\n",
              "        vertical-align: top;\n",
              "    }\n",
              "\n",
              "    .dataframe thead th {\n",
              "        text-align: right;\n",
              "    }\n",
              "</style>\n",
              "<table border=\"1\" class=\"dataframe\">\n",
              "  <thead>\n",
              "    <tr style=\"text-align: right;\">\n",
              "      <th></th>\n",
              "      <th>name</th>\n",
              "      <th>author</th>\n",
              "      <th>categories</th>\n",
              "      <th>body/story</th>\n",
              "      <th>likesNumber</th>\n",
              "      <th>commentsNumber</th>\n",
              "      <th>timestamp of scraping</th>\n",
              "      <th>url</th>\n",
              "    </tr>\n",
              "  </thead>\n",
              "  <tbody>\n",
              "    <tr>\n",
              "      <th>0</th>\n",
              "      <td>No Hard Feelings</td>\n",
              "      <td>A.dot Ram</td>\n",
              "      <td>Drama, Science Fiction, Speculative</td>\n",
              "      <td>Dear Winston,\\nBy the time you’re reading this...</td>\n",
              "      <td>251</td>\n",
              "      <td>131</td>\n",
              "      <td>2020-11-16T13:51:25.961554</td>\n",
              "      <td>https://blog.reedsy.com/creative-writing-promp...</td>\n",
              "    </tr>\n",
              "    <tr>\n",
              "      <th>1</th>\n",
              "      <td>3:00 A.M.</td>\n",
              "      <td>Alby Carter</td>\n",
              "      <td>Contemporary, Drama, Lesbian</td>\n",
              "      <td>It’s late, and my head still hurts from the fi...</td>\n",
              "      <td>140</td>\n",
              "      <td>65</td>\n",
              "      <td>2020-11-16T13:51:26.814869</td>\n",
              "      <td>https://blog.reedsy.com/creative-writing-prom...</td>\n",
              "    </tr>\n",
              "    <tr>\n",
              "      <th>2</th>\n",
              "      <td>The Population</td>\n",
              "      <td>Julia Boddie</td>\n",
              "      <td>Fiction, Science Fiction, Kids</td>\n",
              "      <td>They rushed him to the hospital. Timothy laid ...</td>\n",
              "      <td>83</td>\n",
              "      <td>31</td>\n",
              "      <td>2020-11-16T13:51:27.692685</td>\n",
              "      <td>https://blog.reedsy.com/creative-writing-prom...</td>\n",
              "    </tr>\n",
              "    <tr>\n",
              "      <th>3</th>\n",
              "      <td>That Night</td>\n",
              "      <td>Eliza Ane</td>\n",
              "      <td>Thriller, Suspense</td>\n",
              "      <td>The door slammed against the wall as she threw...</td>\n",
              "      <td>82</td>\n",
              "      <td>79</td>\n",
              "      <td>2020-11-16T13:51:28.563709</td>\n",
              "      <td>https://blog.reedsy.com/creative-writing-prom...</td>\n",
              "    </tr>\n",
              "    <tr>\n",
              "      <th>4</th>\n",
              "      <td>A savior?</td>\n",
              "      <td>B. W.</td>\n",
              "      <td>Adventure, Fantasy</td>\n",
              "      <td>This has something to do with the novel that i...</td>\n",
              "      <td>72</td>\n",
              "      <td>260</td>\n",
              "      <td>2020-11-16T13:51:29.870689</td>\n",
              "      <td>https://blog.reedsy.com/creative-writing-prom...</td>\n",
              "    </tr>\n",
              "    <tr>\n",
              "      <th>...</th>\n",
              "      <td>...</td>\n",
              "      <td>...</td>\n",
              "      <td>...</td>\n",
              "      <td>...</td>\n",
              "      <td>...</td>\n",
              "      <td>...</td>\n",
              "      <td>...</td>\n",
              "      <td>...</td>\n",
              "    </tr>\n",
              "    <tr>\n",
              "      <th>4140</th>\n",
              "      <td>A Different Kind Of Ophalim</td>\n",
              "      <td>Azalea Young</td>\n",
              "      <td>Fantasy, Fiction</td>\n",
              "      <td>Of Important Note:\\nWith the creation of Yalib...</td>\n",
              "      <td>0</td>\n",
              "      <td>0</td>\n",
              "      <td>2021-02-03T23:41:12.424204</td>\n",
              "      <td>https://blog.reedsy.com/creative-writing-prom...</td>\n",
              "    </tr>\n",
              "    <tr>\n",
              "      <th>4141</th>\n",
              "      <td>The Miracle Maker</td>\n",
              "      <td>Reija Sillanpaa</td>\n",
              "      <td>Fiction, Sad</td>\n",
              "      <td>TW: sexual abuse, familial abuse\\n\\nMy super-s...</td>\n",
              "      <td>0</td>\n",
              "      <td>0</td>\n",
              "      <td>2021-02-03T23:41:13.191278</td>\n",
              "      <td>https://blog.reedsy.com/creative-writing-prom...</td>\n",
              "    </tr>\n",
              "    <tr>\n",
              "      <th>4142</th>\n",
              "      <td>She Listens</td>\n",
              "      <td>Da. Blackmore</td>\n",
              "      <td>Sad</td>\n",
              "      <td>Tears.\\nShe steps into the schoolyard silently...</td>\n",
              "      <td>0</td>\n",
              "      <td>0</td>\n",
              "      <td>2021-02-03T23:41:13.949157</td>\n",
              "      <td>https://blog.reedsy.com/creative-writing-prom...</td>\n",
              "    </tr>\n",
              "    <tr>\n",
              "      <th>4143</th>\n",
              "      <td>Someone given a second chance, is someone give...</td>\n",
              "      <td>Nokwazi Mokoena</td>\n",
              "      <td>Coming of Age, Fiction, Inspirational</td>\n",
              "      <td>I cannot recall what was happening in my head ...</td>\n",
              "      <td>0</td>\n",
              "      <td>0</td>\n",
              "      <td>2021-02-03T23:41:14.786111</td>\n",
              "      <td>https://blog.reedsy.com/creative-writing-prom...</td>\n",
              "    </tr>\n",
              "    <tr>\n",
              "      <th>4144</th>\n",
              "      <td>Bettering Beginnings</td>\n",
              "      <td>C alexis Mcgregor</td>\n",
              "      <td>Contemporary, Drama, Sad</td>\n",
              "      <td>CRASH\\nMy head flies from its feathery perch, ...</td>\n",
              "      <td>0</td>\n",
              "      <td>0</td>\n",
              "      <td>2021-02-03T23:41:15.538461</td>\n",
              "      <td>https://blog.reedsy.com/creative-writing-prom...</td>\n",
              "    </tr>\n",
              "  </tbody>\n",
              "</table>\n",
              "<p>4145 rows × 8 columns</p>\n",
              "</div>"
            ],
            "text/plain": [
              "                                                   name  ...                                                url\n",
              "0                                      No Hard Feelings  ...  https://blog.reedsy.com/creative-writing-promp...\n",
              "1                                             3:00 A.M.  ...   https://blog.reedsy.com/creative-writing-prom...\n",
              "2                                        The Population  ...   https://blog.reedsy.com/creative-writing-prom...\n",
              "3                                            That Night  ...   https://blog.reedsy.com/creative-writing-prom...\n",
              "4                                             A savior?  ...   https://blog.reedsy.com/creative-writing-prom...\n",
              "...                                                 ...  ...                                                ...\n",
              "4140                        A Different Kind Of Ophalim  ...   https://blog.reedsy.com/creative-writing-prom...\n",
              "4141                                  The Miracle Maker  ...   https://blog.reedsy.com/creative-writing-prom...\n",
              "4142                                        She Listens  ...   https://blog.reedsy.com/creative-writing-prom...\n",
              "4143  Someone given a second chance, is someone give...  ...   https://blog.reedsy.com/creative-writing-prom...\n",
              "4144                               Bettering Beginnings  ...   https://blog.reedsy.com/creative-writing-prom...\n",
              "\n",
              "[4145 rows x 8 columns]"
            ]
          },
          "metadata": {
            "tags": []
          },
          "execution_count": 3
        }
      ]
    },
    {
      "cell_type": "markdown",
      "metadata": {
        "id": "U7ghkMnHp1Xo"
      },
      "source": [
        "#We have to clean the data. If a sample has no category at all -- we remove the sample from the dataset."
      ]
    },
    {
      "cell_type": "code",
      "metadata": {
        "colab": {
          "base_uri": "https://localhost:8080/",
          "height": 597
        },
        "id": "eJ-JKnaZ7zYR",
        "outputId": "38ce2282-3068-4da4-f5f0-7629ee2088a0"
      },
      "source": [
        "df.replace('', np.nan, regex=True, inplace=True)\n",
        "df = df.dropna(subset=['categories']).reset_index(drop=True)\n",
        "\n",
        "df.replace('', np.nan, regex=True, inplace=True)\n",
        "df = df.dropna(subset=['body/story']).reset_index(drop=True)\n",
        "\n",
        "df"
      ],
      "execution_count": 4,
      "outputs": [
        {
          "output_type": "execute_result",
          "data": {
            "text/html": [
              "<div>\n",
              "<style scoped>\n",
              "    .dataframe tbody tr th:only-of-type {\n",
              "        vertical-align: middle;\n",
              "    }\n",
              "\n",
              "    .dataframe tbody tr th {\n",
              "        vertical-align: top;\n",
              "    }\n",
              "\n",
              "    .dataframe thead th {\n",
              "        text-align: right;\n",
              "    }\n",
              "</style>\n",
              "<table border=\"1\" class=\"dataframe\">\n",
              "  <thead>\n",
              "    <tr style=\"text-align: right;\">\n",
              "      <th></th>\n",
              "      <th>name</th>\n",
              "      <th>author</th>\n",
              "      <th>categories</th>\n",
              "      <th>body/story</th>\n",
              "      <th>likesNumber</th>\n",
              "      <th>commentsNumber</th>\n",
              "      <th>timestamp of scraping</th>\n",
              "      <th>url</th>\n",
              "    </tr>\n",
              "  </thead>\n",
              "  <tbody>\n",
              "    <tr>\n",
              "      <th>0</th>\n",
              "      <td>No Hard Feelings</td>\n",
              "      <td>A.dot Ram</td>\n",
              "      <td>Drama, Science Fiction, Speculative</td>\n",
              "      <td>Dear Winston,\\nBy the time you’re reading this...</td>\n",
              "      <td>251</td>\n",
              "      <td>131</td>\n",
              "      <td>2020-11-16T13:51:25.961554</td>\n",
              "      <td>https://blog.reedsy.com/creative-writing-promp...</td>\n",
              "    </tr>\n",
              "    <tr>\n",
              "      <th>1</th>\n",
              "      <td>3:00 A.M.</td>\n",
              "      <td>Alby Carter</td>\n",
              "      <td>Contemporary, Drama, Lesbian</td>\n",
              "      <td>It’s late, and my head still hurts from the fi...</td>\n",
              "      <td>140</td>\n",
              "      <td>65</td>\n",
              "      <td>2020-11-16T13:51:26.814869</td>\n",
              "      <td>https://blog.reedsy.com/creative-writing-prom...</td>\n",
              "    </tr>\n",
              "    <tr>\n",
              "      <th>2</th>\n",
              "      <td>The Population</td>\n",
              "      <td>Julia Boddie</td>\n",
              "      <td>Fiction, Science Fiction, Kids</td>\n",
              "      <td>They rushed him to the hospital. Timothy laid ...</td>\n",
              "      <td>83</td>\n",
              "      <td>31</td>\n",
              "      <td>2020-11-16T13:51:27.692685</td>\n",
              "      <td>https://blog.reedsy.com/creative-writing-prom...</td>\n",
              "    </tr>\n",
              "    <tr>\n",
              "      <th>3</th>\n",
              "      <td>That Night</td>\n",
              "      <td>Eliza Ane</td>\n",
              "      <td>Thriller, Suspense</td>\n",
              "      <td>The door slammed against the wall as she threw...</td>\n",
              "      <td>82</td>\n",
              "      <td>79</td>\n",
              "      <td>2020-11-16T13:51:28.563709</td>\n",
              "      <td>https://blog.reedsy.com/creative-writing-prom...</td>\n",
              "    </tr>\n",
              "    <tr>\n",
              "      <th>4</th>\n",
              "      <td>A savior?</td>\n",
              "      <td>B. W.</td>\n",
              "      <td>Adventure, Fantasy</td>\n",
              "      <td>This has something to do with the novel that i...</td>\n",
              "      <td>72</td>\n",
              "      <td>260</td>\n",
              "      <td>2020-11-16T13:51:29.870689</td>\n",
              "      <td>https://blog.reedsy.com/creative-writing-prom...</td>\n",
              "    </tr>\n",
              "    <tr>\n",
              "      <th>...</th>\n",
              "      <td>...</td>\n",
              "      <td>...</td>\n",
              "      <td>...</td>\n",
              "      <td>...</td>\n",
              "      <td>...</td>\n",
              "      <td>...</td>\n",
              "      <td>...</td>\n",
              "      <td>...</td>\n",
              "    </tr>\n",
              "    <tr>\n",
              "      <th>3579</th>\n",
              "      <td>A Different Kind Of Ophalim</td>\n",
              "      <td>Azalea Young</td>\n",
              "      <td>Fantasy, Fiction</td>\n",
              "      <td>Of Important Note:\\nWith the creation of Yalib...</td>\n",
              "      <td>0</td>\n",
              "      <td>0</td>\n",
              "      <td>2021-02-03T23:41:12.424204</td>\n",
              "      <td>https://blog.reedsy.com/creative-writing-prom...</td>\n",
              "    </tr>\n",
              "    <tr>\n",
              "      <th>3580</th>\n",
              "      <td>The Miracle Maker</td>\n",
              "      <td>Reija Sillanpaa</td>\n",
              "      <td>Fiction, Sad</td>\n",
              "      <td>TW: sexual abuse, familial abuse\\n\\nMy super-s...</td>\n",
              "      <td>0</td>\n",
              "      <td>0</td>\n",
              "      <td>2021-02-03T23:41:13.191278</td>\n",
              "      <td>https://blog.reedsy.com/creative-writing-prom...</td>\n",
              "    </tr>\n",
              "    <tr>\n",
              "      <th>3581</th>\n",
              "      <td>She Listens</td>\n",
              "      <td>Da. Blackmore</td>\n",
              "      <td>Sad</td>\n",
              "      <td>Tears.\\nShe steps into the schoolyard silently...</td>\n",
              "      <td>0</td>\n",
              "      <td>0</td>\n",
              "      <td>2021-02-03T23:41:13.949157</td>\n",
              "      <td>https://blog.reedsy.com/creative-writing-prom...</td>\n",
              "    </tr>\n",
              "    <tr>\n",
              "      <th>3582</th>\n",
              "      <td>Someone given a second chance, is someone give...</td>\n",
              "      <td>Nokwazi Mokoena</td>\n",
              "      <td>Coming of Age, Fiction, Inspirational</td>\n",
              "      <td>I cannot recall what was happening in my head ...</td>\n",
              "      <td>0</td>\n",
              "      <td>0</td>\n",
              "      <td>2021-02-03T23:41:14.786111</td>\n",
              "      <td>https://blog.reedsy.com/creative-writing-prom...</td>\n",
              "    </tr>\n",
              "    <tr>\n",
              "      <th>3583</th>\n",
              "      <td>Bettering Beginnings</td>\n",
              "      <td>C alexis Mcgregor</td>\n",
              "      <td>Contemporary, Drama, Sad</td>\n",
              "      <td>CRASH\\nMy head flies from its feathery perch, ...</td>\n",
              "      <td>0</td>\n",
              "      <td>0</td>\n",
              "      <td>2021-02-03T23:41:15.538461</td>\n",
              "      <td>https://blog.reedsy.com/creative-writing-prom...</td>\n",
              "    </tr>\n",
              "  </tbody>\n",
              "</table>\n",
              "<p>3584 rows × 8 columns</p>\n",
              "</div>"
            ],
            "text/plain": [
              "                                                   name  ...                                                url\n",
              "0                                      No Hard Feelings  ...  https://blog.reedsy.com/creative-writing-promp...\n",
              "1                                             3:00 A.M.  ...   https://blog.reedsy.com/creative-writing-prom...\n",
              "2                                        The Population  ...   https://blog.reedsy.com/creative-writing-prom...\n",
              "3                                            That Night  ...   https://blog.reedsy.com/creative-writing-prom...\n",
              "4                                             A savior?  ...   https://blog.reedsy.com/creative-writing-prom...\n",
              "...                                                 ...  ...                                                ...\n",
              "3579                        A Different Kind Of Ophalim  ...   https://blog.reedsy.com/creative-writing-prom...\n",
              "3580                                  The Miracle Maker  ...   https://blog.reedsy.com/creative-writing-prom...\n",
              "3581                                        She Listens  ...   https://blog.reedsy.com/creative-writing-prom...\n",
              "3582  Someone given a second chance, is someone give...  ...   https://blog.reedsy.com/creative-writing-prom...\n",
              "3583                               Bettering Beginnings  ...   https://blog.reedsy.com/creative-writing-prom...\n",
              "\n",
              "[3584 rows x 8 columns]"
            ]
          },
          "metadata": {
            "tags": []
          },
          "execution_count": 4
        }
      ]
    },
    {
      "cell_type": "code",
      "metadata": {
        "colab": {
          "base_uri": "https://localhost:8080/"
        },
        "id": "nQck30uSid6W",
        "outputId": "89eb1329-6f16-4d8c-e652-28ec6a5d5bc1"
      },
      "source": [
        "df[\"author\"].value_counts()"
      ],
      "execution_count": 5,
      "outputs": [
        {
          "output_type": "execute_result",
          "data": {
            "text/plain": [
              "Zilla Babbitt     14\n",
              "Writer Maniac     14\n",
              "Sara Blanch       12\n",
              "Joe Swanson       12\n",
              "Deborah Mercer    10\n",
              "                  ..\n",
              "Dan Bilinski       1\n",
              "Sabrina Rose       1\n",
              "Joanna Ortega      1\n",
              "Nea H.             1\n",
              "Kate Heesemann     1\n",
              "Name: author, Length: 2446, dtype: int64"
            ]
          },
          "metadata": {
            "tags": []
          },
          "execution_count": 5
        }
      ]
    },
    {
      "cell_type": "markdown",
      "metadata": {
        "id": "StTTz2OhpN7z"
      },
      "source": [
        "#We have categories as a string \"cat1, cat2, cat3\" and we need to replace it with a list [cat1, cat2, cat3]."
      ]
    },
    {
      "cell_type": "code",
      "metadata": {
        "colab": {
          "base_uri": "https://localhost:8080/",
          "height": 597
        },
        "id": "sYpMNvlIjLu2",
        "outputId": "2c636827-e693-4da5-8707-7b87216d7c8e"
      },
      "source": [
        "df[\"categories\"] = df[\"categories\"].apply(lambda x: x.split(\", \"))\n",
        "df"
      ],
      "execution_count": 6,
      "outputs": [
        {
          "output_type": "execute_result",
          "data": {
            "text/html": [
              "<div>\n",
              "<style scoped>\n",
              "    .dataframe tbody tr th:only-of-type {\n",
              "        vertical-align: middle;\n",
              "    }\n",
              "\n",
              "    .dataframe tbody tr th {\n",
              "        vertical-align: top;\n",
              "    }\n",
              "\n",
              "    .dataframe thead th {\n",
              "        text-align: right;\n",
              "    }\n",
              "</style>\n",
              "<table border=\"1\" class=\"dataframe\">\n",
              "  <thead>\n",
              "    <tr style=\"text-align: right;\">\n",
              "      <th></th>\n",
              "      <th>name</th>\n",
              "      <th>author</th>\n",
              "      <th>categories</th>\n",
              "      <th>body/story</th>\n",
              "      <th>likesNumber</th>\n",
              "      <th>commentsNumber</th>\n",
              "      <th>timestamp of scraping</th>\n",
              "      <th>url</th>\n",
              "    </tr>\n",
              "  </thead>\n",
              "  <tbody>\n",
              "    <tr>\n",
              "      <th>0</th>\n",
              "      <td>No Hard Feelings</td>\n",
              "      <td>A.dot Ram</td>\n",
              "      <td>[Drama, Science Fiction, Speculative]</td>\n",
              "      <td>Dear Winston,\\nBy the time you’re reading this...</td>\n",
              "      <td>251</td>\n",
              "      <td>131</td>\n",
              "      <td>2020-11-16T13:51:25.961554</td>\n",
              "      <td>https://blog.reedsy.com/creative-writing-promp...</td>\n",
              "    </tr>\n",
              "    <tr>\n",
              "      <th>1</th>\n",
              "      <td>3:00 A.M.</td>\n",
              "      <td>Alby Carter</td>\n",
              "      <td>[Contemporary, Drama, Lesbian]</td>\n",
              "      <td>It’s late, and my head still hurts from the fi...</td>\n",
              "      <td>140</td>\n",
              "      <td>65</td>\n",
              "      <td>2020-11-16T13:51:26.814869</td>\n",
              "      <td>https://blog.reedsy.com/creative-writing-prom...</td>\n",
              "    </tr>\n",
              "    <tr>\n",
              "      <th>2</th>\n",
              "      <td>The Population</td>\n",
              "      <td>Julia Boddie</td>\n",
              "      <td>[Fiction, Science Fiction, Kids]</td>\n",
              "      <td>They rushed him to the hospital. Timothy laid ...</td>\n",
              "      <td>83</td>\n",
              "      <td>31</td>\n",
              "      <td>2020-11-16T13:51:27.692685</td>\n",
              "      <td>https://blog.reedsy.com/creative-writing-prom...</td>\n",
              "    </tr>\n",
              "    <tr>\n",
              "      <th>3</th>\n",
              "      <td>That Night</td>\n",
              "      <td>Eliza Ane</td>\n",
              "      <td>[Thriller, Suspense]</td>\n",
              "      <td>The door slammed against the wall as she threw...</td>\n",
              "      <td>82</td>\n",
              "      <td>79</td>\n",
              "      <td>2020-11-16T13:51:28.563709</td>\n",
              "      <td>https://blog.reedsy.com/creative-writing-prom...</td>\n",
              "    </tr>\n",
              "    <tr>\n",
              "      <th>4</th>\n",
              "      <td>A savior?</td>\n",
              "      <td>B. W.</td>\n",
              "      <td>[Adventure, Fantasy]</td>\n",
              "      <td>This has something to do with the novel that i...</td>\n",
              "      <td>72</td>\n",
              "      <td>260</td>\n",
              "      <td>2020-11-16T13:51:29.870689</td>\n",
              "      <td>https://blog.reedsy.com/creative-writing-prom...</td>\n",
              "    </tr>\n",
              "    <tr>\n",
              "      <th>...</th>\n",
              "      <td>...</td>\n",
              "      <td>...</td>\n",
              "      <td>...</td>\n",
              "      <td>...</td>\n",
              "      <td>...</td>\n",
              "      <td>...</td>\n",
              "      <td>...</td>\n",
              "      <td>...</td>\n",
              "    </tr>\n",
              "    <tr>\n",
              "      <th>3579</th>\n",
              "      <td>A Different Kind Of Ophalim</td>\n",
              "      <td>Azalea Young</td>\n",
              "      <td>[Fantasy, Fiction]</td>\n",
              "      <td>Of Important Note:\\nWith the creation of Yalib...</td>\n",
              "      <td>0</td>\n",
              "      <td>0</td>\n",
              "      <td>2021-02-03T23:41:12.424204</td>\n",
              "      <td>https://blog.reedsy.com/creative-writing-prom...</td>\n",
              "    </tr>\n",
              "    <tr>\n",
              "      <th>3580</th>\n",
              "      <td>The Miracle Maker</td>\n",
              "      <td>Reija Sillanpaa</td>\n",
              "      <td>[Fiction, Sad]</td>\n",
              "      <td>TW: sexual abuse, familial abuse\\n\\nMy super-s...</td>\n",
              "      <td>0</td>\n",
              "      <td>0</td>\n",
              "      <td>2021-02-03T23:41:13.191278</td>\n",
              "      <td>https://blog.reedsy.com/creative-writing-prom...</td>\n",
              "    </tr>\n",
              "    <tr>\n",
              "      <th>3581</th>\n",
              "      <td>She Listens</td>\n",
              "      <td>Da. Blackmore</td>\n",
              "      <td>[Sad]</td>\n",
              "      <td>Tears.\\nShe steps into the schoolyard silently...</td>\n",
              "      <td>0</td>\n",
              "      <td>0</td>\n",
              "      <td>2021-02-03T23:41:13.949157</td>\n",
              "      <td>https://blog.reedsy.com/creative-writing-prom...</td>\n",
              "    </tr>\n",
              "    <tr>\n",
              "      <th>3582</th>\n",
              "      <td>Someone given a second chance, is someone give...</td>\n",
              "      <td>Nokwazi Mokoena</td>\n",
              "      <td>[Coming of Age, Fiction, Inspirational]</td>\n",
              "      <td>I cannot recall what was happening in my head ...</td>\n",
              "      <td>0</td>\n",
              "      <td>0</td>\n",
              "      <td>2021-02-03T23:41:14.786111</td>\n",
              "      <td>https://blog.reedsy.com/creative-writing-prom...</td>\n",
              "    </tr>\n",
              "    <tr>\n",
              "      <th>3583</th>\n",
              "      <td>Bettering Beginnings</td>\n",
              "      <td>C alexis Mcgregor</td>\n",
              "      <td>[Contemporary, Drama, Sad]</td>\n",
              "      <td>CRASH\\nMy head flies from its feathery perch, ...</td>\n",
              "      <td>0</td>\n",
              "      <td>0</td>\n",
              "      <td>2021-02-03T23:41:15.538461</td>\n",
              "      <td>https://blog.reedsy.com/creative-writing-prom...</td>\n",
              "    </tr>\n",
              "  </tbody>\n",
              "</table>\n",
              "<p>3584 rows × 8 columns</p>\n",
              "</div>"
            ],
            "text/plain": [
              "                                                   name  ...                                                url\n",
              "0                                      No Hard Feelings  ...  https://blog.reedsy.com/creative-writing-promp...\n",
              "1                                             3:00 A.M.  ...   https://blog.reedsy.com/creative-writing-prom...\n",
              "2                                        The Population  ...   https://blog.reedsy.com/creative-writing-prom...\n",
              "3                                            That Night  ...   https://blog.reedsy.com/creative-writing-prom...\n",
              "4                                             A savior?  ...   https://blog.reedsy.com/creative-writing-prom...\n",
              "...                                                 ...  ...                                                ...\n",
              "3579                        A Different Kind Of Ophalim  ...   https://blog.reedsy.com/creative-writing-prom...\n",
              "3580                                  The Miracle Maker  ...   https://blog.reedsy.com/creative-writing-prom...\n",
              "3581                                        She Listens  ...   https://blog.reedsy.com/creative-writing-prom...\n",
              "3582  Someone given a second chance, is someone give...  ...   https://blog.reedsy.com/creative-writing-prom...\n",
              "3583                               Bettering Beginnings  ...   https://blog.reedsy.com/creative-writing-prom...\n",
              "\n",
              "[3584 rows x 8 columns]"
            ]
          },
          "metadata": {
            "tags": []
          },
          "execution_count": 6
        }
      ]
    },
    {
      "cell_type": "markdown",
      "metadata": {
        "id": "6Eg2FKCIpfia"
      },
      "source": [
        "#To analyze the categories existing in the dataset."
      ]
    },
    {
      "cell_type": "code",
      "metadata": {
        "colab": {
          "base_uri": "https://localhost:8080/"
        },
        "id": "692Y4wQ-mD7C",
        "outputId": "6822f723-5124-409a-f67b-12a4a99264b1"
      },
      "source": [
        "categories = itertools.chain(*df[\"categories\"].tolist())\n",
        "categories_df = pd.DataFrame(categories, columns=[\"category\"])\n",
        "categories_df.value_counts()"
      ],
      "execution_count": 7,
      "outputs": [
        {
          "output_type": "execute_result",
          "data": {
            "text/plain": [
              "category           \n",
              "Fiction                1195\n",
              "Drama                   790\n",
              "Fantasy                 522\n",
              "Romance                 492\n",
              "Mystery                 462\n",
              "Sad                     417\n",
              "Suspense                370\n",
              "Contemporary            336\n",
              "Funny                   313\n",
              "Adventure               309\n",
              "Thriller                309\n",
              "Christmas               306\n",
              "Science Fiction         306\n",
              "Inspirational           268\n",
              "Friendship              259\n",
              "Holiday                 247\n",
              "Crime                   210\n",
              "Teens & Young Adult     206\n",
              "Coming of Age           185\n",
              "Happy                   151\n",
              "Creative Nonfiction     150\n",
              "Speculative             147\n",
              "American                115\n",
              "Horror                  110\n",
              "LGBTQ+                   72\n",
              "Kids                     69\n",
              "Historical Fiction       67\n",
              "Christian                54\n",
              "High School              46\n",
              "Bedtime                  44\n",
              "Urban Fantasy            41\n",
              "African American         36\n",
              "Gay                      32\n",
              "Black                    25\n",
              "Lesbian                  24\n",
              "Desi                     17\n",
              "Middle School            17\n",
              "Asian American           17\n",
              "People of Color          15\n",
              "Western                  12\n",
              "Transgender               9\n",
              "East Asian                8\n",
              "Indigenous                8\n",
              "Latinx                    4\n",
              "dtype: int64"
            ]
          },
          "metadata": {
            "tags": []
          },
          "execution_count": 7
        }
      ]
    },
    {
      "cell_type": "code",
      "metadata": {
        "id": "VDvTbxIrxUMH",
        "colab": {
          "base_uri": "https://localhost:8080/",
          "height": 399
        },
        "outputId": "6b53c16f-2bf7-489d-b01e-433720e3b615"
      },
      "source": [
        "categories_df.value_counts().plot(kind='bar')"
      ],
      "execution_count": 8,
      "outputs": [
        {
          "output_type": "execute_result",
          "data": {
            "text/plain": [
              "<matplotlib.axes._subplots.AxesSubplot at 0x7f38bc636510>"
            ]
          },
          "metadata": {
            "tags": []
          },
          "execution_count": 8
        },
        {
          "output_type": "display_data",
          "data": {
            "image/png": "[encoded data removed]",
            "text/plain": [
              "<Figure size 432x288 with 1 Axes>"
            ]
          },
          "metadata": {
            "tags": [],
            "needs_background": "light"
          }
        }
      ]
    },
    {
      "cell_type": "markdown",
      "metadata": {
        "id": "ZEF3BL0b8Fky"
      },
      "source": [
        "#As our classes are highly imbalanced we remove categories that are represented by less than 100 samples, i.e. consider them being irregular and irrelative as a noise."
      ]
    },
    {
      "cell_type": "code",
      "metadata": {
        "colab": {
          "base_uri": "https://localhost:8080/"
        },
        "id": "gumOoj998ZZR",
        "outputId": "f917ea57-658a-4d29-e095-e221d006212d"
      },
      "source": [
        "list_of_categories = categories_df[\"category\"].to_list()\n",
        "\n",
        "counts = dict()\n",
        "for i in list_of_categories:\n",
        "  counts[i] = counts.get(i, 0) + 1\n",
        "\n",
        "print(sorted(counts.items(), key=lambda item: item[1], reverse=True)[:10])\n",
        "\n",
        "categories_to_drop = {k: v for k, v in counts.items() if v < 100}\n",
        "categories_to_drop = set(categories_to_drop)\n",
        "print(categories_to_drop)"
      ],
      "execution_count": 9,
      "outputs": [
        {
          "output_type": "stream",
          "text": [
            "[('Fiction', 1195), ('Drama', 790), ('Fantasy', 522), ('Romance', 492), ('Mystery', 462), ('Sad', 417), ('Suspense', 370), ('Contemporary', 336), ('Funny', 313), ('Thriller', 309)]\n",
            "{'Middle School', 'Black', 'Bedtime', 'Indigenous', 'Latinx', 'Desi', 'Kids', 'Western', 'Lesbian', 'LGBTQ+', 'High School', 'Christian', 'Gay', 'African American', 'East Asian', 'Transgender', 'Asian American', 'People of Color', 'Urban Fantasy', 'Historical Fiction'}\n"
          ],
          "name": "stdout"
        }
      ]
    },
    {
      "cell_type": "markdown",
      "metadata": {
        "id": "jjxNLP-CKr9D"
      },
      "source": [
        "Removal from the main dataframe itself."
      ]
    },
    {
      "cell_type": "code",
      "metadata": {
        "colab": {
          "base_uri": "https://localhost:8080/",
          "height": 81
        },
        "id": "SvoGtq18IG_S",
        "outputId": "1a9e0d3e-0c44-4a2b-80ba-a74136be4f93"
      },
      "source": [
        "def remove_redundant_categories(cats):\n",
        "  return [cat for cat in cats if cat not in categories_to_drop]\n",
        "\n",
        "df[\"categories\"] = df[\"categories\"].apply(lambda cats: remove_redundant_categories(cats))\n",
        "df[260:261]"
      ],
      "execution_count": 10,
      "outputs": [
        {
          "output_type": "execute_result",
          "data": {
            "text/html": [
              "<div>\n",
              "<style scoped>\n",
              "    .dataframe tbody tr th:only-of-type {\n",
              "        vertical-align: middle;\n",
              "    }\n",
              "\n",
              "    .dataframe tbody tr th {\n",
              "        vertical-align: top;\n",
              "    }\n",
              "\n",
              "    .dataframe thead th {\n",
              "        text-align: right;\n",
              "    }\n",
              "</style>\n",
              "<table border=\"1\" class=\"dataframe\">\n",
              "  <thead>\n",
              "    <tr style=\"text-align: right;\">\n",
              "      <th></th>\n",
              "      <th>name</th>\n",
              "      <th>author</th>\n",
              "      <th>categories</th>\n",
              "      <th>body/story</th>\n",
              "      <th>likesNumber</th>\n",
              "      <th>commentsNumber</th>\n",
              "      <th>timestamp of scraping</th>\n",
              "      <th>url</th>\n",
              "    </tr>\n",
              "  </thead>\n",
              "  <tbody>\n",
              "    <tr>\n",
              "      <th>260</th>\n",
              "      <td>Destiny</td>\n",
              "      <td>Anjali Roy</td>\n",
              "      <td>[]</td>\n",
              "      <td>Raghav, the go-getting young man in her hobby ...</td>\n",
              "      <td>10</td>\n",
              "      <td>1</td>\n",
              "      <td>2020-11-16T13:55:01.505172</td>\n",
              "      <td>https://blog.reedsy.com/creative-writing-prom...</td>\n",
              "    </tr>\n",
              "  </tbody>\n",
              "</table>\n",
              "</div>"
            ],
            "text/plain": [
              "        name  ...                                                url\n",
              "260  Destiny  ...   https://blog.reedsy.com/creative-writing-prom...\n",
              "\n",
              "[1 rows x 8 columns]"
            ]
          },
          "metadata": {
            "tags": []
          },
          "execution_count": 10
        }
      ]
    },
    {
      "cell_type": "markdown",
      "metadata": {
        "id": "khc97quJ8bOR"
      },
      "source": [
        "#Remove a sample if it has no categories at all after the last step."
      ]
    },
    {
      "cell_type": "code",
      "metadata": {
        "colab": {
          "base_uri": "https://localhost:8080/",
          "height": 597
        },
        "id": "18qJKUIO8bjg",
        "outputId": "9e8241c5-6fe6-4503-d256-46c1a3c8ca00"
      },
      "source": [
        "df = df[df['categories'].map(lambda d: len(d)) > 0].reset_index(drop=True)\n",
        "df"
      ],
      "execution_count": 11,
      "outputs": [
        {
          "output_type": "execute_result",
          "data": {
            "text/html": [
              "<div>\n",
              "<style scoped>\n",
              "    .dataframe tbody tr th:only-of-type {\n",
              "        vertical-align: middle;\n",
              "    }\n",
              "\n",
              "    .dataframe tbody tr th {\n",
              "        vertical-align: top;\n",
              "    }\n",
              "\n",
              "    .dataframe thead th {\n",
              "        text-align: right;\n",
              "    }\n",
              "</style>\n",
              "<table border=\"1\" class=\"dataframe\">\n",
              "  <thead>\n",
              "    <tr style=\"text-align: right;\">\n",
              "      <th></th>\n",
              "      <th>name</th>\n",
              "      <th>author</th>\n",
              "      <th>categories</th>\n",
              "      <th>body/story</th>\n",
              "      <th>likesNumber</th>\n",
              "      <th>commentsNumber</th>\n",
              "      <th>timestamp of scraping</th>\n",
              "      <th>url</th>\n",
              "    </tr>\n",
              "  </thead>\n",
              "  <tbody>\n",
              "    <tr>\n",
              "      <th>0</th>\n",
              "      <td>No Hard Feelings</td>\n",
              "      <td>A.dot Ram</td>\n",
              "      <td>[Drama, Science Fiction, Speculative]</td>\n",
              "      <td>Dear Winston,\\nBy the time you’re reading this...</td>\n",
              "      <td>251</td>\n",
              "      <td>131</td>\n",
              "      <td>2020-11-16T13:51:25.961554</td>\n",
              "      <td>https://blog.reedsy.com/creative-writing-promp...</td>\n",
              "    </tr>\n",
              "    <tr>\n",
              "      <th>1</th>\n",
              "      <td>3:00 A.M.</td>\n",
              "      <td>Alby Carter</td>\n",
              "      <td>[Contemporary, Drama]</td>\n",
              "      <td>It’s late, and my head still hurts from the fi...</td>\n",
              "      <td>140</td>\n",
              "      <td>65</td>\n",
              "      <td>2020-11-16T13:51:26.814869</td>\n",
              "      <td>https://blog.reedsy.com/creative-writing-prom...</td>\n",
              "    </tr>\n",
              "    <tr>\n",
              "      <th>2</th>\n",
              "      <td>The Population</td>\n",
              "      <td>Julia Boddie</td>\n",
              "      <td>[Fiction, Science Fiction]</td>\n",
              "      <td>They rushed him to the hospital. Timothy laid ...</td>\n",
              "      <td>83</td>\n",
              "      <td>31</td>\n",
              "      <td>2020-11-16T13:51:27.692685</td>\n",
              "      <td>https://blog.reedsy.com/creative-writing-prom...</td>\n",
              "    </tr>\n",
              "    <tr>\n",
              "      <th>3</th>\n",
              "      <td>That Night</td>\n",
              "      <td>Eliza Ane</td>\n",
              "      <td>[Thriller, Suspense]</td>\n",
              "      <td>The door slammed against the wall as she threw...</td>\n",
              "      <td>82</td>\n",
              "      <td>79</td>\n",
              "      <td>2020-11-16T13:51:28.563709</td>\n",
              "      <td>https://blog.reedsy.com/creative-writing-prom...</td>\n",
              "    </tr>\n",
              "    <tr>\n",
              "      <th>4</th>\n",
              "      <td>A savior?</td>\n",
              "      <td>B. W.</td>\n",
              "      <td>[Adventure, Fantasy]</td>\n",
              "      <td>This has something to do with the novel that i...</td>\n",
              "      <td>72</td>\n",
              "      <td>260</td>\n",
              "      <td>2020-11-16T13:51:29.870689</td>\n",
              "      <td>https://blog.reedsy.com/creative-writing-prom...</td>\n",
              "    </tr>\n",
              "    <tr>\n",
              "      <th>...</th>\n",
              "      <td>...</td>\n",
              "      <td>...</td>\n",
              "      <td>...</td>\n",
              "      <td>...</td>\n",
              "      <td>...</td>\n",
              "      <td>...</td>\n",
              "      <td>...</td>\n",
              "      <td>...</td>\n",
              "    </tr>\n",
              "    <tr>\n",
              "      <th>3549</th>\n",
              "      <td>A Different Kind Of Ophalim</td>\n",
              "      <td>Azalea Young</td>\n",
              "      <td>[Fantasy, Fiction]</td>\n",
              "      <td>Of Important Note:\\nWith the creation of Yalib...</td>\n",
              "      <td>0</td>\n",
              "      <td>0</td>\n",
              "      <td>2021-02-03T23:41:12.424204</td>\n",
              "      <td>https://blog.reedsy.com/creative-writing-prom...</td>\n",
              "    </tr>\n",
              "    <tr>\n",
              "      <th>3550</th>\n",
              "      <td>The Miracle Maker</td>\n",
              "      <td>Reija Sillanpaa</td>\n",
              "      <td>[Fiction, Sad]</td>\n",
              "      <td>TW: sexual abuse, familial abuse\\n\\nMy super-s...</td>\n",
              "      <td>0</td>\n",
              "      <td>0</td>\n",
              "      <td>2021-02-03T23:41:13.191278</td>\n",
              "      <td>https://blog.reedsy.com/creative-writing-prom...</td>\n",
              "    </tr>\n",
              "    <tr>\n",
              "      <th>3551</th>\n",
              "      <td>She Listens</td>\n",
              "      <td>Da. Blackmore</td>\n",
              "      <td>[Sad]</td>\n",
              "      <td>Tears.\\nShe steps into the schoolyard silently...</td>\n",
              "      <td>0</td>\n",
              "      <td>0</td>\n",
              "      <td>2021-02-03T23:41:13.949157</td>\n",
              "      <td>https://blog.reedsy.com/creative-writing-prom...</td>\n",
              "    </tr>\n",
              "    <tr>\n",
              "      <th>3552</th>\n",
              "      <td>Someone given a second chance, is someone give...</td>\n",
              "      <td>Nokwazi Mokoena</td>\n",
              "      <td>[Coming of Age, Fiction, Inspirational]</td>\n",
              "      <td>I cannot recall what was happening in my head ...</td>\n",
              "      <td>0</td>\n",
              "      <td>0</td>\n",
              "      <td>2021-02-03T23:41:14.786111</td>\n",
              "      <td>https://blog.reedsy.com/creative-writing-prom...</td>\n",
              "    </tr>\n",
              "    <tr>\n",
              "      <th>3553</th>\n",
              "      <td>Bettering Beginnings</td>\n",
              "      <td>C alexis Mcgregor</td>\n",
              "      <td>[Contemporary, Drama, Sad]</td>\n",
              "      <td>CRASH\\nMy head flies from its feathery perch, ...</td>\n",
              "      <td>0</td>\n",
              "      <td>0</td>\n",
              "      <td>2021-02-03T23:41:15.538461</td>\n",
              "      <td>https://blog.reedsy.com/creative-writing-prom...</td>\n",
              "    </tr>\n",
              "  </tbody>\n",
              "</table>\n",
              "<p>3554 rows × 8 columns</p>\n",
              "</div>"
            ],
            "text/plain": [
              "                                                   name  ...                                                url\n",
              "0                                      No Hard Feelings  ...  https://blog.reedsy.com/creative-writing-promp...\n",
              "1                                             3:00 A.M.  ...   https://blog.reedsy.com/creative-writing-prom...\n",
              "2                                        The Population  ...   https://blog.reedsy.com/creative-writing-prom...\n",
              "3                                            That Night  ...   https://blog.reedsy.com/creative-writing-prom...\n",
              "4                                             A savior?  ...   https://blog.reedsy.com/creative-writing-prom...\n",
              "...                                                 ...  ...                                                ...\n",
              "3549                        A Different Kind Of Ophalim  ...   https://blog.reedsy.com/creative-writing-prom...\n",
              "3550                                  The Miracle Maker  ...   https://blog.reedsy.com/creative-writing-prom...\n",
              "3551                                        She Listens  ...   https://blog.reedsy.com/creative-writing-prom...\n",
              "3552  Someone given a second chance, is someone give...  ...   https://blog.reedsy.com/creative-writing-prom...\n",
              "3553                               Bettering Beginnings  ...   https://blog.reedsy.com/creative-writing-prom...\n",
              "\n",
              "[3554 rows x 8 columns]"
            ]
          },
          "metadata": {
            "tags": []
          },
          "execution_count": 11
        }
      ]
    },
    {
      "cell_type": "markdown",
      "metadata": {
        "id": "9Q-4G2wSOk1n"
      },
      "source": [
        "#Repeat plotting to compare what we've done so far."
      ]
    },
    {
      "cell_type": "code",
      "metadata": {
        "colab": {
          "base_uri": "https://localhost:8080/"
        },
        "id": "3kKBd2QpO2w5",
        "outputId": "83e1445c-7f30-49dd-aff5-6dbadf0a94bf"
      },
      "source": [
        "categories = itertools.chain(*df[\"categories\"].tolist())\n",
        "categories_df = pd.DataFrame(categories, columns=[\"category\"])\n",
        "categories_df.value_counts()"
      ],
      "execution_count": 12,
      "outputs": [
        {
          "output_type": "execute_result",
          "data": {
            "text/plain": [
              "category           \n",
              "Fiction                1195\n",
              "Drama                   790\n",
              "Fantasy                 522\n",
              "Romance                 492\n",
              "Mystery                 462\n",
              "Sad                     417\n",
              "Suspense                370\n",
              "Contemporary            336\n",
              "Funny                   313\n",
              "Thriller                309\n",
              "Adventure               309\n",
              "Science Fiction         306\n",
              "Christmas               306\n",
              "Inspirational           268\n",
              "Friendship              259\n",
              "Holiday                 247\n",
              "Crime                   210\n",
              "Teens & Young Adult     206\n",
              "Coming of Age           185\n",
              "Happy                   151\n",
              "Creative Nonfiction     150\n",
              "Speculative             147\n",
              "American                115\n",
              "Horror                  110\n",
              "dtype: int64"
            ]
          },
          "metadata": {
            "tags": []
          },
          "execution_count": 12
        }
      ]
    },
    {
      "cell_type": "code",
      "metadata": {
        "colab": {
          "base_uri": "https://localhost:8080/",
          "height": 399
        },
        "id": "2KN8oFW6O5PW",
        "outputId": "d3b8a26a-1748-431e-e325-798ee8ccb60c"
      },
      "source": [
        "categories_df.value_counts().plot(kind='bar')"
      ],
      "execution_count": 13,
      "outputs": [
        {
          "output_type": "execute_result",
          "data": {
            "text/plain": [
              "<matplotlib.axes._subplots.AxesSubplot at 0x7f38bc6b64d0>"
            ]
          },
          "metadata": {
            "tags": []
          },
          "execution_count": 13
        },
        {
          "output_type": "display_data",
          "data": {
            "image/png": "[encoded data removed]",
            "text/plain": [
              "<Figure size 432x288 with 1 Axes>"
            ]
          },
          "metadata": {
            "tags": [],
            "needs_background": "light"
          }
        }
      ]
    },
    {
      "cell_type": "markdown",
      "metadata": {
        "id": "krGUbZKJ8rA3"
      },
      "source": [
        "#Make all possible categories in the dataset as one-hot encoding."
      ]
    },
    {
      "cell_type": "code",
      "metadata": {
        "colab": {
          "base_uri": "https://localhost:8080/",
          "height": 487
        },
        "id": "5cz2mdZz6ijd",
        "outputId": "197f606c-990d-4d03-c15c-d98c7c53c16b"
      },
      "source": [
        "category_names = categories_df['category'].unique().tolist()\n",
        "print(\"Quantity of categories:\")\n",
        "print(category_names)\n",
        "print(len(category_names))\n",
        "categories = pd.get_dummies(category_names)\n",
        "categories.head(10)"
      ],
      "execution_count": 14,
      "outputs": [
        {
          "output_type": "stream",
          "text": [
            "Quantity of categories:\n",
            "['Drama', 'Science Fiction', 'Speculative', 'Contemporary', 'Fiction', 'Thriller', 'Suspense', 'Adventure', 'Fantasy', 'Coming of Age', 'Crime', 'Mystery', 'Funny', 'Sad', 'Horror', 'Romance', 'Friendship', 'Inspirational', 'American', 'Teens & Young Adult', 'Holiday', 'Happy', 'Creative Nonfiction', 'Christmas']\n",
            "24\n"
          ],
          "name": "stdout"
        },
        {
          "output_type": "execute_result",
          "data": {
            "text/html": [
              "<div>\n",
              "<style scoped>\n",
              "    .dataframe tbody tr th:only-of-type {\n",
              "        vertical-align: middle;\n",
              "    }\n",
              "\n",
              "    .dataframe tbody tr th {\n",
              "        vertical-align: top;\n",
              "    }\n",
              "\n",
              "    .dataframe thead th {\n",
              "        text-align: right;\n",
              "    }\n",
              "</style>\n",
              "<table border=\"1\" class=\"dataframe\">\n",
              "  <thead>\n",
              "    <tr style=\"text-align: right;\">\n",
              "      <th></th>\n",
              "      <th>Adventure</th>\n",
              "      <th>American</th>\n",
              "      <th>Christmas</th>\n",
              "      <th>Coming of Age</th>\n",
              "      <th>Contemporary</th>\n",
              "      <th>Creative Nonfiction</th>\n",
              "      <th>Crime</th>\n",
              "      <th>Drama</th>\n",
              "      <th>Fantasy</th>\n",
              "      <th>Fiction</th>\n",
              "      <th>Friendship</th>\n",
              "      <th>Funny</th>\n",
              "      <th>Happy</th>\n",
              "      <th>Holiday</th>\n",
              "      <th>Horror</th>\n",
              "      <th>Inspirational</th>\n",
              "      <th>Mystery</th>\n",
              "      <th>Romance</th>\n",
              "      <th>Sad</th>\n",
              "      <th>Science Fiction</th>\n",
              "      <th>Speculative</th>\n",
              "      <th>Suspense</th>\n",
              "      <th>Teens &amp; Young Adult</th>\n",
              "      <th>Thriller</th>\n",
              "    </tr>\n",
              "  </thead>\n",
              "  <tbody>\n",
              "    <tr>\n",
              "      <th>0</th>\n",
              "      <td>0</td>\n",
              "      <td>0</td>\n",
              "      <td>0</td>\n",
              "      <td>0</td>\n",
              "      <td>0</td>\n",
              "      <td>0</td>\n",
              "      <td>0</td>\n",
              "      <td>1</td>\n",
              "      <td>0</td>\n",
              "      <td>0</td>\n",
              "      <td>0</td>\n",
              "      <td>0</td>\n",
              "      <td>0</td>\n",
              "      <td>0</td>\n",
              "      <td>0</td>\n",
              "      <td>0</td>\n",
              "      <td>0</td>\n",
              "      <td>0</td>\n",
              "      <td>0</td>\n",
              "      <td>0</td>\n",
              "      <td>0</td>\n",
              "      <td>0</td>\n",
              "      <td>0</td>\n",
              "      <td>0</td>\n",
              "    </tr>\n",
              "    <tr>\n",
              "      <th>1</th>\n",
              "      <td>0</td>\n",
              "      <td>0</td>\n",
              "      <td>0</td>\n",
              "      <td>0</td>\n",
              "      <td>0</td>\n",
              "      <td>0</td>\n",
              "      <td>0</td>\n",
              "      <td>0</td>\n",
              "      <td>0</td>\n",
              "      <td>0</td>\n",
              "      <td>0</td>\n",
              "      <td>0</td>\n",
              "      <td>0</td>\n",
              "      <td>0</td>\n",
              "      <td>0</td>\n",
              "      <td>0</td>\n",
              "      <td>0</td>\n",
              "      <td>0</td>\n",
              "      <td>0</td>\n",
              "      <td>1</td>\n",
              "      <td>0</td>\n",
              "      <td>0</td>\n",
              "      <td>0</td>\n",
              "      <td>0</td>\n",
              "    </tr>\n",
              "    <tr>\n",
              "      <th>2</th>\n",
              "      <td>0</td>\n",
              "      <td>0</td>\n",
              "      <td>0</td>\n",
              "      <td>0</td>\n",
              "      <td>0</td>\n",
              "      <td>0</td>\n",
              "      <td>0</td>\n",
              "      <td>0</td>\n",
              "      <td>0</td>\n",
              "      <td>0</td>\n",
              "      <td>0</td>\n",
              "      <td>0</td>\n",
              "      <td>0</td>\n",
              "      <td>0</td>\n",
              "      <td>0</td>\n",
              "      <td>0</td>\n",
              "      <td>0</td>\n",
              "      <td>0</td>\n",
              "      <td>0</td>\n",
              "      <td>0</td>\n",
              "      <td>1</td>\n",
              "      <td>0</td>\n",
              "      <td>0</td>\n",
              "      <td>0</td>\n",
              "    </tr>\n",
              "    <tr>\n",
              "      <th>3</th>\n",
              "      <td>0</td>\n",
              "      <td>0</td>\n",
              "      <td>0</td>\n",
              "      <td>0</td>\n",
              "      <td>1</td>\n",
              "      <td>0</td>\n",
              "      <td>0</td>\n",
              "      <td>0</td>\n",
              "      <td>0</td>\n",
              "      <td>0</td>\n",
              "      <td>0</td>\n",
              "      <td>0</td>\n",
              "      <td>0</td>\n",
              "      <td>0</td>\n",
              "      <td>0</td>\n",
              "      <td>0</td>\n",
              "      <td>0</td>\n",
              "      <td>0</td>\n",
              "      <td>0</td>\n",
              "      <td>0</td>\n",
              "      <td>0</td>\n",
              "      <td>0</td>\n",
              "      <td>0</td>\n",
              "      <td>0</td>\n",
              "    </tr>\n",
              "    <tr>\n",
              "      <th>4</th>\n",
              "      <td>0</td>\n",
              "      <td>0</td>\n",
              "      <td>0</td>\n",
              "      <td>0</td>\n",
              "      <td>0</td>\n",
              "      <td>0</td>\n",
              "      <td>0</td>\n",
              "      <td>0</td>\n",
              "      <td>0</td>\n",
              "      <td>1</td>\n",
              "      <td>0</td>\n",
              "      <td>0</td>\n",
              "      <td>0</td>\n",
              "      <td>0</td>\n",
              "      <td>0</td>\n",
              "      <td>0</td>\n",
              "      <td>0</td>\n",
              "      <td>0</td>\n",
              "      <td>0</td>\n",
              "      <td>0</td>\n",
              "      <td>0</td>\n",
              "      <td>0</td>\n",
              "      <td>0</td>\n",
              "      <td>0</td>\n",
              "    </tr>\n",
              "    <tr>\n",
              "      <th>5</th>\n",
              "      <td>0</td>\n",
              "      <td>0</td>\n",
              "      <td>0</td>\n",
              "      <td>0</td>\n",
              "      <td>0</td>\n",
              "      <td>0</td>\n",
              "      <td>0</td>\n",
              "      <td>0</td>\n",
              "      <td>0</td>\n",
              "      <td>0</td>\n",
              "      <td>0</td>\n",
              "      <td>0</td>\n",
              "      <td>0</td>\n",
              "      <td>0</td>\n",
              "      <td>0</td>\n",
              "      <td>0</td>\n",
              "      <td>0</td>\n",
              "      <td>0</td>\n",
              "      <td>0</td>\n",
              "      <td>0</td>\n",
              "      <td>0</td>\n",
              "      <td>0</td>\n",
              "      <td>0</td>\n",
              "      <td>1</td>\n",
              "    </tr>\n",
              "    <tr>\n",
              "      <th>6</th>\n",
              "      <td>0</td>\n",
              "      <td>0</td>\n",
              "      <td>0</td>\n",
              "      <td>0</td>\n",
              "      <td>0</td>\n",
              "      <td>0</td>\n",
              "      <td>0</td>\n",
              "      <td>0</td>\n",
              "      <td>0</td>\n",
              "      <td>0</td>\n",
              "      <td>0</td>\n",
              "      <td>0</td>\n",
              "      <td>0</td>\n",
              "      <td>0</td>\n",
              "      <td>0</td>\n",
              "      <td>0</td>\n",
              "      <td>0</td>\n",
              "      <td>0</td>\n",
              "      <td>0</td>\n",
              "      <td>0</td>\n",
              "      <td>0</td>\n",
              "      <td>1</td>\n",
              "      <td>0</td>\n",
              "      <td>0</td>\n",
              "    </tr>\n",
              "    <tr>\n",
              "      <th>7</th>\n",
              "      <td>1</td>\n",
              "      <td>0</td>\n",
              "      <td>0</td>\n",
              "      <td>0</td>\n",
              "      <td>0</td>\n",
              "      <td>0</td>\n",
              "      <td>0</td>\n",
              "      <td>0</td>\n",
              "      <td>0</td>\n",
              "      <td>0</td>\n",
              "      <td>0</td>\n",
              "      <td>0</td>\n",
              "      <td>0</td>\n",
              "      <td>0</td>\n",
              "      <td>0</td>\n",
              "      <td>0</td>\n",
              "      <td>0</td>\n",
              "      <td>0</td>\n",
              "      <td>0</td>\n",
              "      <td>0</td>\n",
              "      <td>0</td>\n",
              "      <td>0</td>\n",
              "      <td>0</td>\n",
              "      <td>0</td>\n",
              "    </tr>\n",
              "    <tr>\n",
              "      <th>8</th>\n",
              "      <td>0</td>\n",
              "      <td>0</td>\n",
              "      <td>0</td>\n",
              "      <td>0</td>\n",
              "      <td>0</td>\n",
              "      <td>0</td>\n",
              "      <td>0</td>\n",
              "      <td>0</td>\n",
              "      <td>1</td>\n",
              "      <td>0</td>\n",
              "      <td>0</td>\n",
              "      <td>0</td>\n",
              "      <td>0</td>\n",
              "      <td>0</td>\n",
              "      <td>0</td>\n",
              "      <td>0</td>\n",
              "      <td>0</td>\n",
              "      <td>0</td>\n",
              "      <td>0</td>\n",
              "      <td>0</td>\n",
              "      <td>0</td>\n",
              "      <td>0</td>\n",
              "      <td>0</td>\n",
              "      <td>0</td>\n",
              "    </tr>\n",
              "    <tr>\n",
              "      <th>9</th>\n",
              "      <td>0</td>\n",
              "      <td>0</td>\n",
              "      <td>0</td>\n",
              "      <td>1</td>\n",
              "      <td>0</td>\n",
              "      <td>0</td>\n",
              "      <td>0</td>\n",
              "      <td>0</td>\n",
              "      <td>0</td>\n",
              "      <td>0</td>\n",
              "      <td>0</td>\n",
              "      <td>0</td>\n",
              "      <td>0</td>\n",
              "      <td>0</td>\n",
              "      <td>0</td>\n",
              "      <td>0</td>\n",
              "      <td>0</td>\n",
              "      <td>0</td>\n",
              "      <td>0</td>\n",
              "      <td>0</td>\n",
              "      <td>0</td>\n",
              "      <td>0</td>\n",
              "      <td>0</td>\n",
              "      <td>0</td>\n",
              "    </tr>\n",
              "  </tbody>\n",
              "</table>\n",
              "</div>"
            ],
            "text/plain": [
              "   Adventure  American  Christmas  ...  Suspense  Teens & Young Adult  Thriller\n",
              "0          0         0          0  ...         0                    0         0\n",
              "1          0         0          0  ...         0                    0         0\n",
              "2          0         0          0  ...         0                    0         0\n",
              "3          0         0          0  ...         0                    0         0\n",
              "4          0         0          0  ...         0                    0         0\n",
              "5          0         0          0  ...         0                    0         1\n",
              "6          0         0          0  ...         1                    0         0\n",
              "7          1         0          0  ...         0                    0         0\n",
              "8          0         0          0  ...         0                    0         0\n",
              "9          0         0          0  ...         0                    0         0\n",
              "\n",
              "[10 rows x 24 columns]"
            ]
          },
          "metadata": {
            "tags": []
          },
          "execution_count": 14
        }
      ]
    },
    {
      "cell_type": "markdown",
      "metadata": {
        "id": "bK-VeKzeJIi2"
      },
      "source": [
        "#A function that allows us to make vector encoding in the categories above. And a simple example."
      ]
    },
    {
      "cell_type": "code",
      "metadata": {
        "colab": {
          "base_uri": "https://localhost:8080/"
        },
        "id": "Pb12KaHb9S9o",
        "outputId": "de1a96ea-d5fe-415b-d50c-c7e441645d1d"
      },
      "source": [
        "def encode_categories_into_vector(categs):\n",
        "  one_hot_vectors = [categories[x] for x in categs]\n",
        "  y_onehot = list(map(sum, zip(*one_hot_vectors)))\n",
        "\n",
        "  return y_onehot\n",
        "\n",
        "print(df.loc[10]['categories'])\n",
        "encode_categories_into_vector(df.loc[10]['categories'])"
      ],
      "execution_count": 15,
      "outputs": [
        {
          "output_type": "stream",
          "text": [
            "['Mystery', 'Suspense', 'Thriller']\n"
          ],
          "name": "stdout"
        },
        {
          "output_type": "execute_result",
          "data": {
            "text/plain": [
              "[0, 0, 0, 0, 0, 1, 1, 0, 0, 0, 0, 1, 0, 0, 0, 0, 0, 0, 0, 0, 0, 0, 0, 0]"
            ]
          },
          "metadata": {
            "tags": []
          },
          "execution_count": 15
        }
      ]
    },
    {
      "cell_type": "markdown",
      "metadata": {
        "id": "VG0O_bWqKt75"
      },
      "source": [
        "#Make this one-hot encoding for all rows in the dataframe."
      ]
    },
    {
      "cell_type": "code",
      "metadata": {
        "colab": {
          "base_uri": "https://localhost:8080/"
        },
        "id": "9blkIlUzK47G",
        "outputId": "f7615ed6-d10c-4670-d4bc-f2e12856f25f"
      },
      "source": [
        "df[\"categories\"] = df[\"categories\"].apply(lambda x: encode_categories_into_vector(x))\n",
        "df['categories'].head()"
      ],
      "execution_count": 16,
      "outputs": [
        {
          "output_type": "execute_result",
          "data": {
            "text/plain": [
              "0    [1, 1, 1, 0, 0, 0, 0, 0, 0, 0, 0, 0, 0, 0, 0, ...\n",
              "1    [1, 0, 0, 1, 0, 0, 0, 0, 0, 0, 0, 0, 0, 0, 0, ...\n",
              "2    [0, 1, 0, 0, 1, 0, 0, 0, 0, 0, 0, 0, 0, 0, 0, ...\n",
              "3    [0, 0, 0, 0, 0, 1, 1, 0, 0, 0, 0, 0, 0, 0, 0, ...\n",
              "4    [0, 0, 0, 0, 0, 0, 0, 1, 1, 0, 0, 0, 0, 0, 0, ...\n",
              "Name: categories, dtype: object"
            ]
          },
          "metadata": {
            "tags": []
          },
          "execution_count": 16
        }
      ]
    },
    {
      "cell_type": "code",
      "metadata": {
        "id": "TzjUKuuN31Oh"
      },
      "source": [
        "df.to_pickle(\"./cleaned_dataset_df.pkl\")"
      ],
      "execution_count": 17,
      "outputs": []
    }
  ]
}